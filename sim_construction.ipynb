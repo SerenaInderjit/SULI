{
 "cells": [
  {
   "cell_type": "code",
   "execution_count": null,
   "id": "6136982e",
   "metadata": {},
   "outputs": [],
   "source": [
    "from ophyd import EpicsMotor, sim, Device\n",
    "from ophyd import Component as Cpt, FormattedComponent as FCpt\n",
    "from ophyd.sim import make_fake_device, SynAxis, FakeEpicsSignal\n",
    "from ophyd.signal import EpicsSignal\n",
    "from ophyd.status import MoveStatus\n",
    "from ophyd.device import DynamicDeviceComponent\n",
    "from bluesky.plans import count, scan\n",
    "from bluesky.plan_stubs import mv\n",
    "from bluesky.preprocessors import SupplementalData\n",
    "from collections import OrderedDict"
   ]
  },
  {
   "cell_type": "code",
   "execution_count": null,
   "id": "23bec928",
   "metadata": {},
   "outputs": [
    {
     "data": {
      "text/plain": [
       "<bluesky.run_engine.RunEngine at 0x1fd17e85a90>"
      ]
     },
     "metadata": {},
     "output_type": "display_data"
    }
   ],
   "source": [
    "from bluesky import RunEngine\n",
    "RE = RunEngine({})\n",
    "\n",
    "RE"
   ]
  },
  {
   "cell_type": "code",
   "execution_count": null,
   "id": "3d1c1a71",
   "metadata": {},
   "outputs": [
    {
     "data": {
      "text/plain": [
       "0"
      ]
     },
     "metadata": {},
     "output_type": "display_data"
    }
   ],
   "source": [
    "from bluesky.callbacks.best_effort import BestEffortCallback\n",
    "bec = BestEffortCallback()\n",
    "\n",
    "RE.subscribe(bec)"
   ]
  },
  {
   "cell_type": "code",
   "execution_count": null,
   "id": "6fec42c3",
   "metadata": {},
   "outputs": [
    {
     "name": "stderr",
     "output_type": "stream",
     "text": [
      "Tiled version 0.1.0b29\n"
     ]
    },
    {
     "data": {
      "text/plain": [
       "1"
      ]
     },
     "metadata": {},
     "output_type": "display_data"
    }
   ],
   "source": [
    "from databroker import Broker\n",
    "db = Broker.named('temp')\n",
    "\n",
    "RE.subscribe(db.insert)"
   ]
  },
  {
   "cell_type": "code",
   "execution_count": null,
   "id": "143c12f0",
   "metadata": {},
   "outputs": [
    {
     "data": {
      "text/plain": [
       "[]"
      ]
     },
     "metadata": {},
     "output_type": "display_data"
    }
   ],
   "source": [
    "sd = SupplementalData()\n",
    "RE.preprocessors.append(sd)\n",
    "sd.baseline"
   ]
  },
  {
   "cell_type": "code",
   "execution_count": null,
   "id": "80d4bcd7",
   "metadata": {},
   "outputs": [],
   "source": [
    "class LookupPair(Device):\n",
    "    pair_name = FCpt(EpicsSignal, \"{self.prefix}{self.name_postfix}\", kind=\"omitted\")\n",
    "    pair_val = FCpt(EpicsSignal, \"{self.prefix}{self.val_postfix}\", kind=\"omitted\")\n",
    "\n",
    "    \n",
    "    \n",
    "    def __init__(self, *args, name_postfix : str, val_postfix : str, **kwargs):\n",
    "        self.name_postfix = name_postfix\n",
    "        self.val_postfix = val_postfix\n",
    "        super().__init__(*args, **kwargs)\n",
    "\n",
    "FakeLookupPair = make_fake_device(LookupPair)"
   ]
  },
  {
   "cell_type": "code",
   "execution_count": null,
   "id": "66acb83b",
   "metadata": {},
   "outputs": [],
   "source": [
    "class DynamicLookup(Device):\n",
    "    defn = OrderedDict({\n",
    "        \"pair1\": (FakeLookupPair, \"\", {\"name_postfix\" : \"Pos-Sel.ONST\", \"val_postfix\" : \"Val:1-SP\"}),\n",
    "        \"pair2\": (FakeLookupPair, \"\", {\"name_postfix\" : \"Pos-Sel.TWST\", \"val_postfix\" : \"Val:2-SP\"}),\n",
    "        \"pair3\": (FakeLookupPair, \"\", {\"name_postfix\" : \"Pos-Sel.THST\", \"val_postfix\" : \"Val:3-SP\"}),\n",
    "        \"pair4\": (FakeLookupPair, \"\", {\"name_postfix\" : \"Pos-Sel.FRST\", \"val_postfix\" : \"Val:4-SP\"}),\n",
    "        \"pair5\": (FakeLookupPair, \"\", {\"name_postfix\" : \"Pos-Sel.FVST\", \"val_postfix\" : \"Val:5-SP\"}),\n",
    "        \"pair6\": (FakeLookupPair, \"\", {\"name_postfix\" : \"Pos-Sel.SXST\", \"val_postfix\" : \"Val:6-SP\"}),\n",
    "        \"pair7\": (FakeLookupPair, \"\", {\"name_postfix\" : \"Pos-Sel.SVST\", \"val_postfix\" : \"Val:7-SP\"}),\n",
    "        \"pair8\": (FakeLookupPair, \"\", {\"name_postfix\" : \"Pos-Sel.EIST\", \"val_postfix\" : \"Val:8-SP\"}),\n",
    "        \"pair9\": (FakeLookupPair, \"\", {\"name_postfix\" : \"Pos-Sel.NIST\", \"val_postfix\" : \"Val:9-SP\"}),\n",
    "        \"pair10\": (FakeLookupPair, \"\", {\"name_postfix\" : \"Pos-Sel.TEST\", \"val_postfix\" : \"Val:10-SP\"})\n",
    "    })\n",
    "\n",
    "    lookupPairs = DynamicDeviceComponent(defn)\n",
    "\n",
    "\n",
    "FakeDynamicLookup = make_fake_device(DynamicLookup)"
   ]
  },
  {
   "cell_type": "code",
   "execution_count": null,
   "id": "a581f401",
   "metadata": {},
   "outputs": [],
   "source": [
    "class MotorWithLookup(Device):\n",
    "    \n",
    "    pos_lookup = Cpt(FakeDynamicLookup, \"\")\n",
    "    motor = FCpt(SynAxis, name = \"motor\", prefix = \"{prefix}Mtr\")\n",
    "    pos = FCpt(FakeEpicsSignal, \"\", kind=\"hinted\")\n",
    "\n",
    "    def __init__(self, prefix : str, name = \"\"):\n",
    "        super().__init__(prefix, name=name)\n",
    "\n",
    "    def lookup(self, name: str) -> float:\n",
    "        pair_lst = list(self.pos_lookup.lookupPairs.get())\n",
    "        for pair in pair_lst:\n",
    "            if pair.pair_name == name:\n",
    "                return pair.pair_val       \n",
    "        raise ValueError (f\"Could not find {name} in lookup table\")\n",
    "    \n",
    "    \n",
    "    def get_all_positions(self):\n",
    "        pair_lst = list(self.pos_lookup.lookupPairs.get())\n",
    "        length = len(pair_lst)\n",
    "        print(f\"{length} possible positions:\")\n",
    "        print(\"----------------------------------\")\n",
    "        for pair in pair_lst:\n",
    "            print(f'    {pair.pair_name:_<15} : {pair.pair_val}')\n",
    "\n",
    "    \n",
    "    def set_pos(self, pos: str | float):\n",
    "        pair_lst = list(self.pos_lookup.lookupPairs.get())\n",
    "        val = pos\n",
    "        if isinstance(val, float):\n",
    "            for pair in pair_lst:\n",
    "                if pair.pair_val == val:\n",
    "                    val = pair.pair_name\n",
    "        return self.pos.set(str(val))\n",
    "\n",
    "\n",
    "    def set(self, pos: str | float):\n",
    "        self.set_pos(pos)\n",
    "        if isinstance(pos, str):\n",
    "            val = self.lookup_by_name(pos)\n",
    "        else:\n",
    "            val = pos\n",
    "        return self.motor.set(val)"
   ]
  },
  {
   "cell_type": "code",
   "execution_count": null,
   "id": "26b00d6f",
   "metadata": {},
   "outputs": [],
   "source": [
    "my_motor = MotorWithLookup(\"my_motor\", \"motor:\")\n",
    "\n",
    "sd.baseline.append(my_motor)\n",
    "\n",
    "my_motor.pos_lookup.lookupPairs.pair1.pair_name.put(\"out\")\n",
    "my_motor.pos_lookup.lookupPairs.pair1.pair_val.put(-55.0)\n",
    "my_motor.pos_lookup.lookupPairs.pair2.pair_name.put(\"YAG\")\n",
    "my_motor.pos_lookup.lookupPairs.pair2.pair_val.put(-62.0)\n",
    "my_motor.pos_lookup.lookupPairs.pair3.pair_name.put(\"Cu Block\")\n",
    "my_motor.pos_lookup.lookupPairs.pair3.pair_val.put(-74.0)\n",
    "my_motor.pos_lookup.lookupPairs.pair4.pair_name.put(\"SrTiO3\")\n",
    "my_motor.pos_lookup.lookupPairs.pair4.pair_val.put(-76.0)\n",
    "my_motor.pos_lookup.lookupPairs.pair5.pair_name.put(\"HEO-dark\")\n",
    "my_motor.pos_lookup.lookupPairs.pair5.pair_val.put(-79.0)\n",
    "my_motor.pos_lookup.lookupPairs.pair6.pair_name.put(\"HEO-light\")\n",
    "my_motor.pos_lookup.lookupPairs.pair6.pair_val.put(-82.0)\n",
    "my_motor.pos_lookup.lookupPairs.pair7.pair_name.put(\"MgAl2O4\")\n",
    "my_motor.pos_lookup.lookupPairs.pair7.pair_val.put(-86.0)\n",
    "my_motor.pos_lookup.lookupPairs.pair8.pair_name.put(\"Si\")\n",
    "my_motor.pos_lookup.lookupPairs.pair8.pair_val.put(-89.0)\n",
    "my_motor.pos_lookup.lookupPairs.pair9.pair_name.put(\"ZnSe\")\n",
    "my_motor.pos_lookup.lookupPairs.pair9.pair_val.put(-92.0)\n",
    "my_motor.pos_lookup.lookupPairs.pair10.pair_name.put(\"Value 10\")\n",
    "my_motor.pos_lookup.lookupPairs.pair10.pair_val.put(0.0)"
   ]
  },
  {
   "cell_type": "code",
   "execution_count": null,
   "id": "44d919eb",
   "metadata": {},
   "outputs": [
    {
     "name": "stdout",
     "output_type": "stream",
     "text": [
      "\n",
      "\n",
      "Transient Scan ID: 3     Time: 2025-06-25 13:50:16\n",
      "Persistent Unique Scan ID: 'b4c03716-35ac-436c-9150-7a1844d0e5ee'\n",
      "New stream: 'baseline'\n",
      "Start-of-run baseline readings:\n",
      "+--------------------------------+--------------------------------+\n",
      "|                   motor:_motor | -50.0                          |\n",
      "|                     motor:_pos | -50.0                          |\n",
      "+--------------------------------+--------------------------------+\n",
      "New stream: 'primary'\n",
      "+-----------+------------+--------------+------------+\n",
      "|   seq_num |       time | motor:_motor | motor:_pos |\n",
      "+-----------+------------+--------------+------------+\n",
      "|         1 | 13:50:16.9 |      -55.000 |        out |\n",
      "|         2 | 13:50:16.9 |      -59.750 |     -59.75 |\n",
      "|         3 | 13:50:17.0 |      -64.500 |      -64.5 |\n",
      "|         4 | 13:50:17.0 |      -69.250 |     -69.25 |\n",
      "|         5 | 13:50:17.1 |      -74.000 |   Cu Block |\n",
      "+-----------+------------+--------------+------------+\n",
      "generator scan ['b4c03716'] (scan num: 3)\n",
      "End-of-run baseline readings:\n",
      "+--------------------------------+--------------------------------+\n",
      "|                   motor:_motor | -74.0                          |\n",
      "|                     motor:_pos | Cu Block                       |\n",
      "+--------------------------------+--------------------------------+\n",
      "\n",
      "\n",
      "\n"
     ]
    },
    {
     "data": {
      "text/plain": [
       "('b4c03716-35ac-436c-9150-7a1844d0e5ee',)"
      ]
     },
     "metadata": {},
     "output_type": "display_data"
    }
   ],
   "source": [
    "\n",
    "RE(mv(my_motor, -50.0))\n",
    "\n",
    "RE(scan([my_motor], my_motor, my_motor.lookup(\"out\"), my_motor.lookup(\"Cu Block\"), 5))"
   ]
  },
  {
   "cell_type": "code",
   "execution_count": null,
   "id": "bedc084f",
   "metadata": {},
   "outputs": [
    {
     "data": {
      "text/html": [
       "<div>\n",
       "<style scoped>\n",
       "    .dataframe tbody tr th:only-of-type {\n",
       "        vertical-align: middle;\n",
       "    }\n",
       "\n",
       "    .dataframe tbody tr th {\n",
       "        vertical-align: top;\n",
       "    }\n",
       "\n",
       "    .dataframe thead th {\n",
       "        text-align: right;\n",
       "    }\n",
       "</style>\n",
       "<table border=\"1\" class=\"dataframe\">\n",
       "  <thead>\n",
       "    <tr style=\"text-align: right;\">\n",
       "      <th></th>\n",
       "      <th>motor:_motor</th>\n",
       "      <th>motor:_motor_setpoint</th>\n",
       "      <th>motor:_pos</th>\n",
       "      <th>time</th>\n",
       "    </tr>\n",
       "    <tr>\n",
       "      <th>seq_num</th>\n",
       "      <th></th>\n",
       "      <th></th>\n",
       "      <th></th>\n",
       "      <th></th>\n",
       "    </tr>\n",
       "  </thead>\n",
       "  <tbody>\n",
       "    <tr>\n",
       "      <th>1</th>\n",
       "      <td>-50.0</td>\n",
       "      <td>-50.0</td>\n",
       "      <td>-50.0</td>\n",
       "      <td>2025-06-25 17:49:47.353407145</td>\n",
       "    </tr>\n",
       "    <tr>\n",
       "      <th>2</th>\n",
       "      <td>-74.0</td>\n",
       "      <td>-74.0</td>\n",
       "      <td>Cu Block</td>\n",
       "      <td>2025-06-25 17:49:47.656076431</td>\n",
       "    </tr>\n",
       "  </tbody>\n",
       "</table>\n",
       "</div>"
      ],
      "text/plain": [
       "         motor:_motor  motor:_motor_setpoint motor:_pos  \\\n",
       "seq_num                                                   \n",
       "1               -50.0                  -50.0      -50.0   \n",
       "2               -74.0                  -74.0   Cu Block   \n",
       "\n",
       "                                 time  \n",
       "seq_num                                \n",
       "1       2025-06-25 17:49:47.353407145  \n",
       "2       2025-06-25 17:49:47.656076431  "
      ]
     },
     "metadata": {},
     "output_type": "display_data"
    }
   ],
   "source": [
    "db[-1].table('baseline')"
   ]
  }
 ],
 "metadata": {
  "language_info": {
   "name": "python"
  }
 },
 "nbformat": 4,
 "nbformat_minor": 5
}
