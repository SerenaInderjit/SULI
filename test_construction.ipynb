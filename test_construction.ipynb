{
 "cells": [
  {
   "cell_type": "code",
   "execution_count": 1,
   "id": "601ffbb1",
   "metadata": {},
   "outputs": [],
   "source": [
    "%run motor_construction.py\n",
    "# %run motor_construction_no_slit_PV.py"
   ]
  },
  {
   "cell_type": "code",
   "execution_count": 2,
   "id": "996b1687",
   "metadata": {},
   "outputs": [],
   "source": [
    "es_diag1_y_with_lookup = MotorWithLookup(\"XF:23ID1-ES{Diag:1-Ax:Y}\", name = \"es_diag1_y_with_lookup\")"
   ]
  },
  {
   "cell_type": "code",
   "execution_count": 3,
   "id": "d825109e",
   "metadata": {},
   "outputs": [
    {
     "data": {
      "text/plain": [
       "MotorWithLookup(prefix='XF:23ID1-ES{Diag:1-Ax:Y}', name='es_diag1_y_with_lookup', read_attrs=['pos_lookup', 'pos_lookup.pair1', 'pos_lookup.pair2', 'pos_lookup.pair3', 'pos_lookup.pair4', 'pos_lookup.pair5', 'pos_lookup.pair6', 'pos_lookup.pair7', 'pos_lookup.pair8', 'pos_lookup.pair9', 'pos_lookup.pair10', 'motor', 'motor.user_readback', 'motor.user_setpoint', 'pos_sel'], configuration_attrs=['pos_lookup', 'pos_lookup.pair1', 'pos_lookup.pair1.pair_name', 'pos_lookup.pair1.pair_val', 'pos_lookup.pair2', 'pos_lookup.pair2.pair_name', 'pos_lookup.pair2.pair_val', 'pos_lookup.pair3', 'pos_lookup.pair3.pair_name', 'pos_lookup.pair3.pair_val', 'pos_lookup.pair4', 'pos_lookup.pair4.pair_name', 'pos_lookup.pair4.pair_val', 'pos_lookup.pair5', 'pos_lookup.pair5.pair_name', 'pos_lookup.pair5.pair_val', 'pos_lookup.pair6', 'pos_lookup.pair6.pair_name', 'pos_lookup.pair6.pair_val', 'pos_lookup.pair7', 'pos_lookup.pair7.pair_name', 'pos_lookup.pair7.pair_val', 'pos_lookup.pair8', 'pos_lookup.pair8.pair_name', 'pos_lookup.pair8.pair_val', 'pos_lookup.pair9', 'pos_lookup.pair9.pair_name', 'pos_lookup.pair9.pair_val', 'pos_lookup.pair10', 'pos_lookup.pair10.pair_name', 'pos_lookup.pair10.pair_val', 'motor', 'motor.user_offset', 'motor.user_offset_dir', 'motor.velocity', 'motor.acceleration', 'motor.motor_egu'])"
      ]
     },
     "execution_count": 3,
     "metadata": {},
     "output_type": "execute_result"
    }
   ],
   "source": [
    "es_diag1_y_with_lookup"
   ]
  },
  {
   "cell_type": "code",
   "execution_count": 4,
   "id": "3d08017e",
   "metadata": {},
   "outputs": [
    {
     "name": "stdout",
     "output_type": "stream",
     "text": [
      "EpicsMotor(prefix='XF:23ID1-ES{Diag:1-Ax:Y}Mtr', name='es_diag1_y_with_lookup_motor', parent='es_diag1_y_with_lookup', settle_time=0.0, timeout=None, read_attrs=['user_readback', 'user_setpoint'], configuration_attrs=['user_offset', 'user_offset_dir', 'velocity', 'acceleration', 'motor_egu'])\n",
      "PosLookup(prefix='XF:23ID1-ES{Diag:1-Ax:Y}', name='es_diag1_y_with_lookup_pos_lookup', parent='es_diag1_y_with_lookup', read_attrs=['pair1', 'pair2', 'pair3', 'pair4', 'pair5', 'pair6', 'pair7', 'pair8', 'pair9', 'pair10'], configuration_attrs=['pair1', 'pair1.pair_name', 'pair1.pair_val', 'pair2', 'pair2.pair_name', 'pair2.pair_val', 'pair3', 'pair3.pair_name', 'pair3.pair_val', 'pair4', 'pair4.pair_name', 'pair4.pair_val', 'pair5', 'pair5.pair_name', 'pair5.pair_val', 'pair6', 'pair6.pair_name', 'pair6.pair_val', 'pair7', 'pair7.pair_name', 'pair7.pair_val', 'pair8', 'pair8.pair_name', 'pair8.pair_val', 'pair9', 'pair9.pair_name', 'pair9.pair_val', 'pair10', 'pair10.pair_name', 'pair10.pair_val'])\n",
      "EpicsSignal(read_pv='XF:23ID1-ES{Diag:1-Ax:Y}Pos-Sel', name='es_diag1_y_with_lookup_pos_sel', parent='es_diag1_y_with_lookup', timestamp=1751376066.1657135, auto_monitor=False, string=False, write_pv='XF:23ID1-ES{Diag:1-Ax:Y}Pos-Sel', limits=False, put_complete=False)\n"
     ]
    }
   ],
   "source": [
    "print(es_diag1_y_with_lookup.motor)\n",
    "print(es_diag1_y_with_lookup.pos_lookup)\n",
    "print(es_diag1_y_with_lookup.pos_sel)"
   ]
  },
  {
   "cell_type": "code",
   "execution_count": 5,
   "id": "ef725dea",
   "metadata": {},
   "outputs": [
    {
     "name": "stdout",
     "output_type": "stream",
     "text": [
      "EpicsSignal(read_pv='XF:23ID1-ES{Diag:1-Ax:Y}Pos-Sel.ONST', name='es_diag1_y_with_lookup_pos_lookup_pair1_pair_name', parent='es_diag1_y_with_lookup_pos_lookup_pair1', timestamp=1751376066.1062303, auto_monitor=False, string=False, write_pv='XF:23ID1-ES{Diag:1-Ax:Y}Pos-Sel.ONST', limits=False, put_complete=False)\n",
      "EpicsSignal(read_pv='XF:23ID1-ES{Diag:1-Ax:Y}Mtr.VAL', name='es_diag1_y_with_lookup_motor_user_setpoint', parent='es_diag1_y_with_lookup_motor', timestamp=1751376066.160716, auto_monitor=True, string=False, write_pv='XF:23ID1-ES{Diag:1-Ax:Y}Mtr.VAL', limits=True, put_complete=False)\n"
     ]
    }
   ],
   "source": [
    "print(es_diag1_y_with_lookup.pos_lookup.pair1.pair_name)\n",
    "print(es_diag1_y_with_lookup.motor.user_setpoint)"
   ]
  },
  {
   "cell_type": "code",
   "execution_count": 6,
   "id": "caf8dd7f",
   "metadata": {},
   "outputs": [],
   "source": [
    "# es_diag1_y_with_lookup.get_all_positions()\n",
    "# caput XF:23ID1-ES{Diag:1-Ax:Y}Pos-Sel \"out\"\n",
    "# es_diag1_y_with_lookup.set_pos(\"out\")\n",
    "# RE(mv(es_diag1_y_with_lookup, \"YAG\"))"
   ]
  },
  {
   "cell_type": "code",
   "execution_count": 7,
   "id": "914ffe11",
   "metadata": {},
   "outputs": [],
   "source": [
    "slt3WithLookup = SlitsWithLookup('XF:23ID1-OP{Slt:3', name='slt3WithLookup')"
   ]
  },
  {
   "cell_type": "code",
   "execution_count": 8,
   "id": "6cce72ce",
   "metadata": {},
   "outputs": [
    {
     "data": {
      "text/plain": [
       "SlitsWithLookup(prefix='XF:23ID1-OP{Slt:3', name='slt3WithLookup', read_attrs=['pos_lookup_x', 'pos_lookup_x.pair1', 'pos_lookup_x.pair2', 'pos_lookup_x.pair3', 'pos_lookup_x.pair4', 'pos_lookup_y', 'pos_lookup_y.pair1', 'pos_lookup_y.pair2', 'pos_lookup_y.pair3', 'pos_lookup_y.pair4', 'x', 'x.user_readback', 'x.user_setpoint', 'y', 'y.user_readback', 'y.user_setpoint', 'pos_sel'], configuration_attrs=['pos_lookup_x', 'pos_lookup_x.pair1', 'pos_lookup_x.pair1.pair_name', 'pos_lookup_x.pair1.pair_val', 'pos_lookup_x.pair2', 'pos_lookup_x.pair2.pair_name', 'pos_lookup_x.pair2.pair_val', 'pos_lookup_x.pair3', 'pos_lookup_x.pair3.pair_name', 'pos_lookup_x.pair3.pair_val', 'pos_lookup_x.pair4', 'pos_lookup_x.pair4.pair_name', 'pos_lookup_x.pair4.pair_val', 'pos_lookup_y', 'pos_lookup_y.pair1', 'pos_lookup_y.pair1.pair_name', 'pos_lookup_y.pair1.pair_val', 'pos_lookup_y.pair2', 'pos_lookup_y.pair2.pair_name', 'pos_lookup_y.pair2.pair_val', 'pos_lookup_y.pair3', 'pos_lookup_y.pair3.pair_name', 'pos_lookup_y.pair3.pair_val', 'pos_lookup_y.pair4', 'pos_lookup_y.pair4.pair_name', 'pos_lookup_y.pair4.pair_val', 'x', 'x.user_offset', 'x.user_offset_dir', 'x.velocity', 'x.acceleration', 'x.motor_egu', 'y', 'y.user_offset', 'y.user_offset_dir', 'y.velocity', 'y.acceleration', 'y.motor_egu'])"
      ]
     },
     "execution_count": 8,
     "metadata": {},
     "output_type": "execute_result"
    }
   ],
   "source": [
    "slt3WithLookup"
   ]
  },
  {
   "cell_type": "code",
   "execution_count": 9,
   "id": "bd76d370",
   "metadata": {},
   "outputs": [
    {
     "name": "stdout",
     "output_type": "stream",
     "text": [
      "EpicsMotor(prefix='XF:23ID1-OP{Slt:3-Ax:X}Mtr', name='slt3WithLookup_x', parent='slt3WithLookup', settle_time=0.0, timeout=None, read_attrs=['user_readback', 'user_setpoint'], configuration_attrs=['user_offset', 'user_offset_dir', 'velocity', 'acceleration', 'motor_egu'])\n",
      "EpicsMotor(prefix='XF:23ID1-OP{Slt:3-Ax:Y}Mtr', name='slt3WithLookup_y', parent='slt3WithLookup', settle_time=0.0, timeout=None, read_attrs=['user_readback', 'user_setpoint'], configuration_attrs=['user_offset', 'user_offset_dir', 'velocity', 'acceleration', 'motor_egu'])\n",
      "PosLookupX(prefix='XF:23ID1-OP{Slt:3', name='slt3WithLookup_pos_lookup_x', parent='slt3WithLookup', read_attrs=['pair1', 'pair2', 'pair3', 'pair4'], configuration_attrs=['pair1', 'pair1.pair_name', 'pair1.pair_val', 'pair2', 'pair2.pair_name', 'pair2.pair_val', 'pair3', 'pair3.pair_name', 'pair3.pair_val', 'pair4', 'pair4.pair_name', 'pair4.pair_val'])\n",
      "EpicsSignal(read_pv='XF:23ID1-OP{Slt:3}Pos-Sel', name='slt3WithLookup_pos_sel', parent='slt3WithLookup', timestamp=1751376066.3267014, auto_monitor=False, string=False, write_pv='XF:23ID1-OP{Slt:3}Pos-Sel', limits=False, put_complete=False)\n"
     ]
    }
   ],
   "source": [
    "print(slt3WithLookup.x)\n",
    "print(slt3WithLookup.y)\n",
    "print(slt3WithLookup.pos_lookup_x)\n",
    "print(slt3WithLookup.pos_sel)"
   ]
  },
  {
   "cell_type": "code",
   "execution_count": 10,
   "id": "2bc69806",
   "metadata": {},
   "outputs": [
    {
     "name": "stdout",
     "output_type": "stream",
     "text": [
      "EpicsSignal(read_pv='XF:23ID1-OP{Slt:3-Ax:X}Mtr.VAL', name='slt3WithLookup_x_user_setpoint', parent='slt3WithLookup_x', timestamp=1751376066.314614, auto_monitor=True, string=False, write_pv='XF:23ID1-OP{Slt:3-Ax:X}Mtr.VAL', limits=True, put_complete=False)\n",
      "EpicsSignal(read_pv='XF:23ID1-OP{Slt:3-Ax:Y}Mtr.VAL', name='slt3WithLookup_y_user_setpoint', parent='slt3WithLookup_y', timestamp=1751376066.3213065, auto_monitor=True, string=False, write_pv='XF:23ID1-OP{Slt:3-Ax:Y}Mtr.VAL', limits=True, put_complete=False)\n",
      "EpicsSignal(read_pv='XF:23ID1-OP{Slt:3-Ax:X}Pos-Sel.ONST', name='slt3WithLookup_pos_lookup_x_pair1_pair_name', parent='slt3WithLookup_pos_lookup_x_pair1', timestamp=1751376066.3040843, auto_monitor=False, string=False, write_pv='XF:23ID1-OP{Slt:3-Ax:X}Pos-Sel.ONST', limits=False, put_complete=False)\n",
      "EpicsSignal(read_pv='XF:23ID1-OP{Slt:3-Ax:X}Val:1-SP', name='slt3WithLookup_pos_lookup_x_pair1_pair_val', parent='slt3WithLookup_pos_lookup_x_pair1', timestamp=1751376066.3049076, auto_monitor=False, string=False, write_pv='XF:23ID1-OP{Slt:3-Ax:X}Val:1-SP', limits=False, put_complete=False)\n"
     ]
    }
   ],
   "source": [
    "print(slt3WithLookup.x.user_setpoint)\n",
    "print(slt3WithLookup.y.user_setpoint)\n",
    "print(slt3WithLookup.pos_lookup_x.pair1.pair_name)\n",
    "print(slt3WithLookup.pos_lookup_x.pair1.pair_val)"
   ]
  },
  {
   "cell_type": "code",
   "execution_count": 11,
   "id": "6c1d1250",
   "metadata": {},
   "outputs": [
    {
     "name": "stdout",
     "output_type": "stream",
     "text": [
      "slt3WithLookup -> 2000\n"
     ]
    }
   ],
   "source": [
    "summarize_plan(mv(slt3WithLookup, \"2000\"))\n"
   ]
  },
  {
   "cell_type": "code",
   "execution_count": 12,
   "id": "b0aa80f7",
   "metadata": {},
   "outputs": [],
   "source": [
    "# my_slit.lookup(\"2000\")\n",
    "# my_slit.get_all_sizes()\n",
    "# RE(mv(my_slit, \"10\"))\n",
    "# caput XF:23ID1-OP{Slt:3}Pos-Sel \"out\""
   ]
  }
 ],
 "metadata": {
  "kernelspec": {
   "display_name": "default",
   "language": "python",
   "name": "python3"
  },
  "language_info": {
   "codemirror_mode": {
    "name": "ipython",
    "version": 3
   },
   "file_extension": ".py",
   "mimetype": "text/x-python",
   "name": "python",
   "nbconvert_exporter": "python",
   "pygments_lexer": "ipython3",
   "version": "3.13.5"
  }
 },
 "nbformat": 4,
 "nbformat_minor": 5
}
