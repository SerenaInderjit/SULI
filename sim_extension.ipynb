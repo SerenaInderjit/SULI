{
 "cells": [
  {
   "cell_type": "code",
   "execution_count": 55,
   "id": "74bde07d",
   "metadata": {},
   "outputs": [],
   "source": [
    "# from ophyd.sim import motor1\n",
    "from ophyd import EpicsMotor, sim, Device\n",
    "from ophyd import Component as Cpt, FormattedComponent as FCpt\n",
    "from ophyd.sim import make_fake_device, SynAxis\n",
    "from ophyd.signal import EpicsSignal\n",
    "from ophyd.status import MoveStatus\n",
    "from ophyd.device import DynamicDeviceComponent\n",
    "from bluesky.plans import count, scan\n",
    "from bluesky.plan_stubs import mv\n",
    "from bluesky.preprocessors import SupplementalData"
   ]
  },
  {
   "cell_type": "code",
   "execution_count": 56,
   "id": "dc35f462",
   "metadata": {},
   "outputs": [
    {
     "data": {
      "text/plain": [
       "<bluesky.run_engine.RunEngine at 0x24694aafc50>"
      ]
     },
     "execution_count": 56,
     "metadata": {},
     "output_type": "execute_result"
    }
   ],
   "source": [
    "from bluesky import RunEngine\n",
    "RE = RunEngine({})\n",
    "\n",
    "RE"
   ]
  },
  {
   "cell_type": "code",
   "execution_count": 57,
   "id": "03061b65",
   "metadata": {},
   "outputs": [
    {
     "data": {
      "text/plain": [
       "0"
      ]
     },
     "execution_count": 57,
     "metadata": {},
     "output_type": "execute_result"
    }
   ],
   "source": [
    "from bluesky.callbacks.best_effort import BestEffortCallback\n",
    "bec = BestEffortCallback()\n",
    "\n",
    "RE.subscribe(bec)"
   ]
  },
  {
   "cell_type": "code",
   "execution_count": 58,
   "id": "bcd70213",
   "metadata": {},
   "outputs": [
    {
     "name": "stderr",
     "output_type": "stream",
     "text": [
      "Tiled version 0.1.0b29\n"
     ]
    },
    {
     "data": {
      "text/plain": [
       "1"
      ]
     },
     "execution_count": 58,
     "metadata": {},
     "output_type": "execute_result"
    }
   ],
   "source": [
    "from databroker import Broker\n",
    "db = Broker.named('temp')\n",
    "\n",
    "RE.subscribe(db.insert)"
   ]
  },
  {
   "cell_type": "code",
   "execution_count": 59,
   "id": "0ba83bd7",
   "metadata": {},
   "outputs": [
    {
     "data": {
      "text/plain": [
       "[]"
      ]
     },
     "execution_count": 59,
     "metadata": {},
     "output_type": "execute_result"
    }
   ],
   "source": [
    "sd = SupplementalData()\n",
    "RE.preprocessors.append(sd)\n",
    "sd.baseline"
   ]
  },
  {
   "cell_type": "code",
   "execution_count": 60,
   "id": "8350644e",
   "metadata": {},
   "outputs": [],
   "source": [
    "class LookupPair(Device):\n",
    "    pair_name = FCpt(EpicsSignal, \"{self.name_postfix}\", kind=\"config\")\n",
    "    pair_val = FCpt(EpicsSignal, \"{self.val_postfix}\", kind=\"config\")\n",
    "    \n",
    "    def __init__(self, *args, name_postfix : str, val_postfix : str, **kwargs):\n",
    "        self.name_postfix = name_postfix\n",
    "        self.val_postfix = val_postfix\n",
    "        super().__init__(**kwargs)"
   ]
  },
  {
   "cell_type": "code",
   "execution_count": 61,
   "id": "b8b0b1a3",
   "metadata": {},
   "outputs": [],
   "source": [
    "FakeLookupPair = make_fake_device(LookupPair)"
   ]
  },
  {
   "cell_type": "markdown",
   "id": "00cc43ac",
   "metadata": {},
   "source": [
    "<!-- defn = OrderedDict()\n",
    "\n",
    "classDynamicTable(Device): -->\n",
    "\n"
   ]
  },
  {
   "cell_type": "code",
   "execution_count": 62,
   "id": "c0ad070a",
   "metadata": {},
   "outputs": [],
   "source": [
    "class LookupTable(Device):\n",
    "\n",
    "    pair1 = Cpt(FakeLookupPair, name_postfix = \"Pos-Sel.ONST\", val_postfix = \"Val:1-SP\")\n",
    "    pair2 = Cpt(FakeLookupPair, name_postfix = \"Pos-Sel.TwST\", val_postfix = \"Val:2-SP\")\n",
    "    pair3 = Cpt(FakeLookupPair, name_postfix = \"Pos-Sel.THST\", val_postfix = \"Val:3-SP\")\n",
    "    pair4 = Cpt(FakeLookupPair, name_postfix = \"Pos-Sel.FOST\", val_postfix = \"Val:4-SP\")\n",
    "    pair5 = Cpt(FakeLookupPair, name_postfix = \"Pos-Sel.FIST\", val_postfix = \"Val:5-SP\")\n",
    "    pair6 = Cpt(FakeLookupPair, name_postfix = \"Pos-Sel.SIST\", val_postfix = \"Val:6-SP\")\n",
    "    pair7 = Cpt(FakeLookupPair, name_postfix = \"Pos-Sel.SEST\", val_postfix = \"Val:7-SP\")\n",
    "    pair8 = Cpt(FakeLookupPair, name_postfix = \"Pos-Sel.EIST\", val_postfix = \"Val:8-SP\")\n",
    "    pair9 = Cpt(FakeLookupPair, name_postfix = \"Pos-Sel.NIST\", val_postfix = \"Val:9-SP\")\n",
    "    pair10 = Cpt(FakeLookupPair, name_postfix = \"Pos-Sel.TEST\", val_postfix = \"Val:10-SP\")\n",
    "    "
   ]
  },
  {
   "cell_type": "code",
   "execution_count": 63,
   "id": "f9057edf",
   "metadata": {},
   "outputs": [],
   "source": [
    "from collections import OrderedDict\n",
    "\n",
    "defn = OrderedDict({\n",
    "    \"pair1\": (FakeLookupPair, \"\", {\"name_postfix\" : \"Pos-Sel.ONST\", \"val_postfix\" : \"Val:1-SP\"}),\n",
    "    \"pair2\": (FakeLookupPair, \"\", {\"name_postfix\" : \"Pos-Sel.TWST\", \"val_postfix\" : \"Val:2-SP\"}),\n",
    "    \"pair3\": (FakeLookupPair, \"\", {\"name_postfix\" : \"Pos-Sel.THST\", \"val_postfix\" : \"Val:3-SP\"}),\n",
    "    \"pair4\": (FakeLookupPair, \"\", {\"name_postfix\" : \"Pos-Sel.FOST\", \"val_postfix\" : \"Val:4-SP\"}),\n",
    "    \"pair5\": (FakeLookupPair, \"\", {\"name_postfix\" : \"Pos-Sel.FIST\", \"val_postfix\" : \"Val:5-SP\"}),\n",
    "    \"pair6\": (FakeLookupPair, \"\", {\"name_postfix\" : \"Pos-Sel.SIST\", \"val_postfix\" : \"Val:6-SP\"}),\n",
    "    \"pair7\": (FakeLookupPair, \"\", {\"name_postfix\" : \"Pos-Sel.SEST\", \"val_postfix\" : \"Val:7-SP\"}),\n",
    "    \"pair8\": (FakeLookupPair, \"\", {\"name_postfix\" : \"Pos-Sel.EIST\", \"val_postfix\" : \"Val:8-SP\"}),\n",
    "    \"pair9\": (FakeLookupPair, \"\", {\"name_postfix\" : \"Pos-Sel.NIST\", \"val_postfix\" : \"Val:9-SP\"}),\n",
    "    \"pair10\": (FakeLookupPair, \"\", {\"name_postfix\" : \"Pos-Sel.TEST\", \"val_postfix\" : \"Val:10-SP\"})\n",
    "})\n",
    "\n",
    "\n",
    "class DynamicLookup(Device):\n",
    "    lookupPairs = DynamicDeviceComponent(defn)"
   ]
  },
  {
   "cell_type": "code",
   "execution_count": 64,
   "id": "069f18fa",
   "metadata": {},
   "outputs": [],
   "source": [
    "\n",
    "FakeLookupTable = make_fake_device(LookupTable)\n",
    "FakeDynamicTable = make_fake_device(DynamicLookup)"
   ]
  },
  {
   "cell_type": "code",
   "execution_count": 65,
   "id": "6c9a5041",
   "metadata": {},
   "outputs": [],
   "source": [
    "class CustomMotor(SynAxis):\n",
    "    pos_lookup = Cpt(FakeDynamicTable, \"\")\n",
    "\n",
    "    def __init__(self, name):\n",
    "        super().__init__(name=name)\n",
    "\n",
    "\n",
    "    def lookup_by_name(self, name: str) -> float:\n",
    "        \n",
    "        pair_lst = list(self.pos_lookup.lookupPairs.get())\n",
    "        for pair in pair_lst:\n",
    "            if pair.pair_name == name:\n",
    "                return pair.pair_val       \n",
    "            \n",
    "        raise ValueError (f\"Could not find {name} in lookup table\")\n",
    "    \n",
    "    def get_all_positions(self):\n",
    "        pair_lst = list(self.pos_lookup.lookupPairs.get())\n",
    "        length = len(pair_lst)\n",
    "        print(f\"{length} possible positions:\")\n",
    "        print(\"----------------------------------\")\n",
    "        for pair in pair_lst:\n",
    "            print(f'    {pair.pair_name:_<15} : {pair.pair_val}')\n",
    "\n",
    "\n",
    "    def set(self, pos: str | float) -> MoveStatus:\n",
    "        if isinstance(pos, str):\n",
    "            val = self.lookup_by_name(pos)\n",
    "        else:\n",
    "            val = pos\n",
    "        return super().set(val)\n",
    "\n",
    "\n",
    "motor1 = CustomMotor(\"Y-Axis\")\n",
    "motor2 = CustomMotor(\"X-Axis\")"
   ]
  },
  {
   "cell_type": "code",
   "execution_count": 66,
   "id": "c5ac6171",
   "metadata": {},
   "outputs": [],
   "source": [
    "# Create custom motor\n",
    "my_motor = CustomMotor(\"my_motor\")\n",
    "\n",
    "sd.baseline.append(my_motor)\n",
    "\n",
    "my_motor.pos_lookup.lookupPairs.pair1.pair_name.put(\"out\")\n",
    "my_motor.pos_lookup.lookupPairs.pair1.pair_val.put(50)\n",
    "my_motor.pos_lookup.lookupPairs.pair2.pair_name.put(\"YAG\")\n",
    "my_motor.pos_lookup.lookupPairs.pair2.pair_val.put(-62)\n",
    "my_motor.pos_lookup.lookupPairs.pair3.pair_name.put(\"Cu Block\")\n",
    "my_motor.pos_lookup.lookupPairs.pair3.pair_val.put(-74)\n",
    "my_motor.pos_lookup.lookupPairs.pair4.pair_name.put(\"SrTiO3\")\n",
    "my_motor.pos_lookup.lookupPairs.pair4.pair_val.put(-76)\n",
    "my_motor.pos_lookup.lookupPairs.pair5.pair_name.put(\"HEO-dark\")\n",
    "my_motor.pos_lookup.lookupPairs.pair5.pair_val.put(-79)\n",
    "my_motor.pos_lookup.lookupPairs.pair6.pair_name.put(\"HEO-light\")\n",
    "my_motor.pos_lookup.lookupPairs.pair6.pair_val.put(-82)\n",
    "my_motor.pos_lookup.lookupPairs.pair7.pair_name.put(\"MgAl2O4\")\n",
    "my_motor.pos_lookup.lookupPairs.pair7.pair_val.put(-86)\n",
    "my_motor.pos_lookup.lookupPairs.pair8.pair_name.put(\"Si\")\n",
    "my_motor.pos_lookup.lookupPairs.pair8.pair_val.put(-89)\n",
    "my_motor.pos_lookup.lookupPairs.pair9.pair_name.put(\"ZnSe\")\n",
    "my_motor.pos_lookup.lookupPairs.pair9.pair_val.put(-92)\n",
    "my_motor.pos_lookup.lookupPairs.pair10.pair_name.put(\"Value 10\")\n",
    "my_motor.pos_lookup.lookupPairs.pair10.pair_val.put(0)"
   ]
  },
  {
   "cell_type": "code",
   "execution_count": 67,
   "id": "dfc629f4",
   "metadata": {},
   "outputs": [
    {
     "name": "stdout",
     "output_type": "stream",
     "text": [
      "FakeLookuppairsTuple(pair1=FakeFakeLookupPairTuple(pair_name='out', pair_val=50), pair2=FakeFakeLookupPairTuple(pair_name='YAG', pair_val=-62), pair3=FakeFakeLookupPairTuple(pair_name='Cu Block', pair_val=-74), pair4=FakeFakeLookupPairTuple(pair_name='SrTiO3', pair_val=-76), pair5=FakeFakeLookupPairTuple(pair_name='HEO-dark', pair_val=-79), pair6=FakeFakeLookupPairTuple(pair_name='HEO-light', pair_val=-82), pair7=FakeFakeLookupPairTuple(pair_name='MgAl2O4', pair_val=-86), pair8=FakeFakeLookupPairTuple(pair_name='Si', pair_val=-89), pair9=FakeFakeLookupPairTuple(pair_name='ZnSe', pair_val=-92), pair10=FakeFakeLookupPairTuple(pair_name='Value 10', pair_val=0))\n"
     ]
    }
   ],
   "source": [
    "for elem in my_motor.pos_lookup.get():\n",
    "    print (elem)"
   ]
  },
  {
   "cell_type": "code",
   "execution_count": 68,
   "id": "de3d6245",
   "metadata": {},
   "outputs": [
    {
     "name": "stdout",
     "output_type": "stream",
     "text": [
      "10 possible positions:\n",
      "----------------------------------\n",
      "    out____________ : 50\n",
      "    YAG____________ : -62\n",
      "    Cu Block_______ : -74\n",
      "    SrTiO3_________ : -76\n",
      "    HEO-dark_______ : -79\n",
      "    HEO-light______ : -82\n",
      "    MgAl2O4________ : -86\n",
      "    Si_____________ : -89\n",
      "    ZnSe___________ : -92\n",
      "    Value 10_______ : 0\n"
     ]
    }
   ],
   "source": [
    "my_motor.get_all_positions()"
   ]
  },
  {
   "cell_type": "code",
   "execution_count": 69,
   "id": "2e0e9e37",
   "metadata": {},
   "outputs": [
    {
     "name": "stdout",
     "output_type": "stream",
     "text": [
      "-92\n"
     ]
    }
   ],
   "source": [
    "print(my_motor.lookup_by_name(\"ZnSe\"))"
   ]
  },
  {
   "cell_type": "code",
   "execution_count": 70,
   "id": "9f1836fe",
   "metadata": {},
   "outputs": [
    {
     "name": "stdout",
     "output_type": "stream",
     "text": [
      "\n",
      "\n",
      "Transient Scan ID: 1     Time: 2025-06-20 10:07:10\n",
      "Persistent Unique Scan ID: '4a69ce8d-8c08-4bd9-b20f-df6beb3638ab'\n",
      "New stream: 'baseline'\n",
      "Start-of-run baseline readings:\n",
      "+--------------------------------+--------------------------------+\n",
      "|                       my_motor | 0                              |\n",
      "+--------------------------------+--------------------------------+\n",
      "New stream: 'primary'\n",
      "+-----------+------------+------------+\n",
      "|   seq_num |       time |   my_motor |\n",
      "+-----------+------------+------------+\n",
      "|         1 | 10:07:11.1 |      0.000 |\n",
      "|         2 | 10:07:11.3 |     12.500 |\n",
      "|         3 | 10:07:11.4 |     25.000 |\n",
      "|         4 | 10:07:11.4 |     37.500 |\n",
      "|         5 | 10:07:11.4 |     50.000 |\n",
      "+-----------+------------+------------+\n",
      "generator scan ['4a69ce8d'] (scan num: 1)\n",
      "End-of-run baseline readings:\n",
      "+--------------------------------+--------------------------------+\n",
      "|                       my_motor | 50.0                           |\n",
      "+--------------------------------+--------------------------------+\n",
      "\n",
      "\n",
      "\n"
     ]
    },
    {
     "data": {
      "text/plain": [
       "('4a69ce8d-8c08-4bd9-b20f-df6beb3638ab',)"
      ]
     },
     "execution_count": 70,
     "metadata": {},
     "output_type": "execute_result"
    }
   ],
   "source": [
    "RE(scan([my_motor], my_motor, 0.0, my_motor.lookup_by_name(\"out\"), 5))"
   ]
  },
  {
   "cell_type": "code",
   "execution_count": 71,
   "id": "808b6e99",
   "metadata": {},
   "outputs": [
    {
     "data": {
      "text/html": [
       "<div>\n",
       "<style scoped>\n",
       "    .dataframe tbody tr th:only-of-type {\n",
       "        vertical-align: middle;\n",
       "    }\n",
       "\n",
       "    .dataframe tbody tr th {\n",
       "        vertical-align: top;\n",
       "    }\n",
       "\n",
       "    .dataframe thead th {\n",
       "        text-align: right;\n",
       "    }\n",
       "</style>\n",
       "<table border=\"1\" class=\"dataframe\">\n",
       "  <thead>\n",
       "    <tr style=\"text-align: right;\">\n",
       "      <th></th>\n",
       "      <th>my_motor</th>\n",
       "      <th>time</th>\n",
       "    </tr>\n",
       "    <tr>\n",
       "      <th>seq_num</th>\n",
       "      <th></th>\n",
       "      <th></th>\n",
       "    </tr>\n",
       "  </thead>\n",
       "  <tbody>\n",
       "    <tr>\n",
       "      <th>1</th>\n",
       "      <td>0.0</td>\n",
       "      <td>2025-06-20 14:07:11.021893024</td>\n",
       "    </tr>\n",
       "    <tr>\n",
       "      <th>2</th>\n",
       "      <td>50.0</td>\n",
       "      <td>2025-06-20 14:07:11.520136595</td>\n",
       "    </tr>\n",
       "  </tbody>\n",
       "</table>\n",
       "</div>"
      ],
      "text/plain": [
       "         my_motor                          time\n",
       "seq_num                                        \n",
       "1             0.0 2025-06-20 14:07:11.021893024\n",
       "2            50.0 2025-06-20 14:07:11.520136595"
      ]
     },
     "execution_count": 71,
     "metadata": {},
     "output_type": "execute_result"
    }
   ],
   "source": [
    "db[-1].table('baseline', fields=['my_motor'])"
   ]
  },
  {
   "cell_type": "code",
   "execution_count": 72,
   "id": "f924be44",
   "metadata": {},
   "outputs": [
    {
     "name": "stdout",
     "output_type": "stream",
     "text": [
      "\n",
      "\n",
      "Transient Scan ID: 2     Time: 2025-06-20 10:07:11\n",
      "Persistent Unique Scan ID: '6c715add-878b-4970-9efb-88a7c89d13ea'\n",
      "New stream: 'baseline'\n",
      "Start-of-run baseline readings:\n",
      "+--------------------------------+--------------------------------+\n",
      "|                       my_motor | -89.0                          |\n",
      "+--------------------------------+--------------------------------+\n",
      "New stream: 'primary'\n",
      "+-----------+------------+------------+\n",
      "|   seq_num |       time |   my_motor |\n",
      "+-----------+------------+------------+\n",
      "|         1 | 10:07:12.1 |    -89.000 |\n",
      "+-----------+------------+------------+\n",
      "generator count ['6c715add'] (scan num: 2)\n",
      "End-of-run baseline readings:\n",
      "+--------------------------------+--------------------------------+\n",
      "|                       my_motor | -89.0                          |\n",
      "+--------------------------------+--------------------------------+\n",
      "\n",
      "\n",
      "\n"
     ]
    },
    {
     "data": {
      "text/plain": [
       "('6c715add-878b-4970-9efb-88a7c89d13ea',)"
      ]
     },
     "execution_count": 72,
     "metadata": {},
     "output_type": "execute_result"
    }
   ],
   "source": [
    "RE(mv(my_motor, \"Si\"))\n",
    "RE(count([my_motor]))"
   ]
  }
 ],
 "metadata": {
  "kernelspec": {
   "display_name": "default",
   "language": "python",
   "name": "python3"
  },
  "language_info": {
   "codemirror_mode": {
    "name": "ipython",
    "version": 3
   },
   "file_extension": ".py",
   "mimetype": "text/x-python",
   "name": "python",
   "nbconvert_exporter": "python",
   "pygments_lexer": "ipython3",
   "version": "3.13.5"
  }
 },
 "nbformat": 4,
 "nbformat_minor": 5
}
